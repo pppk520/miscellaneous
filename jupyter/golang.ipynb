{
 "cells": [
  {
   "cell_type": "code",
   "execution_count": 1,
   "metadata": {},
   "outputs": [],
   "source": [
    "import (\"fmt\"\n",
    "        \"math/rand\")"
   ]
  },
  {
   "cell_type": "code",
   "execution_count": 2,
   "metadata": {},
   "outputs": [
    {
     "data": {
      "text/plain": [
       "1\n"
      ]
     },
     "execution_count": 2,
     "metadata": {},
     "output_type": "execute_result"
    }
   ],
   "source": [
    "a:= 1\n",
    "fmt.Println(a)"
   ]
  },
  {
   "cell_type": "code",
   "execution_count": 3,
   "metadata": {},
   "outputs": [
    {
     "data": {
      "text/plain": [
       "random number:  81\n"
      ]
     },
     "execution_count": 3,
     "metadata": {},
     "output_type": "execute_result"
    }
   ],
   "source": [
    "fmt.Println(\"random number: \", rand.Intn(100))"
   ]
  },
  {
   "cell_type": "code",
   "execution_count": 4,
   "metadata": {},
   "outputs": [
    {
     "data": {
      "text/plain": [
       "3.3000002\n"
      ]
     },
     "execution_count": 4,
     "metadata": {},
     "output_type": "execute_result"
    }
   ],
   "source": [
    "func add(x float32, y float32) float32 {\n",
    "    return x + y\n",
    "}\n",
    "\n",
    "var num_1 float32 = 1.1\n",
    "var num_2 float32 = 2.2\n",
    "\n",
    "fmt.Println(add(num_1, num_2))"
   ]
  },
  {
   "cell_type": "code",
   "execution_count": 5,
   "metadata": {},
   "outputs": [
    {
     "data": {
      "text/plain": [
       "Hey\n"
      ]
     },
     "execution_count": 5,
     "metadata": {},
     "output_type": "execute_result"
    },
    {
     "ename": "ERROR",
     "evalue": "// warning: expression returned 2 values, using only the first one: [Hey there]\n",
     "output_type": "error",
     "traceback": [
      "// warning: expression returned 2 values, using only the first one: [Hey there]\n"
     ]
    }
   ],
   "source": [
    "func ret_multiple(a,b string) (string, string) {\n",
    "    return a, b\n",
    "}\n",
    "\n",
    "w1, w2 := \"Hey\", \"there\"\n",
    "fmt.Println(ret_multiple(w1, w2)) \n"
   ]
  },
  {
   "cell_type": "code",
   "execution_count": 6,
   "metadata": {},
   "outputs": [
    {
     "data": {
      "text/plain": [
       "0xc420282570\n",
       "10\n"
      ]
     },
     "execution_count": 6,
     "metadata": {},
     "output_type": "execute_result"
    }
   ],
   "source": [
    "x := 10\n",
    "addr := &x\n",
    "\n",
    "fmt.Println(addr)\n",
    "fmt.Println(*addr)"
   ]
  },
  {
   "cell_type": "code",
   "execution_count": 7,
   "metadata": {},
   "outputs": [
    {
     "data": {
      "text/plain": [
       "{1 shooter 0 true}\n"
      ]
     },
     "execution_count": 7,
     "metadata": {},
     "output_type": "execute_result"
    }
   ],
   "source": [
    "type user struct {\n",
    "    id uint32\n",
    "    name string\n",
    "    age uint8\n",
    "    is_valid bool\n",
    "}\n",
    "\n",
    "a_user := user{1, \"shooter\", 0, true}\n",
    "\n",
    "fmt.Println(a_user)"
   ]
  },
  {
   "cell_type": "code",
   "execution_count": null,
   "metadata": {},
   "outputs": [],
   "source": []
  }
 ],
 "metadata": {
  "kernelspec": {
   "display_name": "Go",
   "language": "go",
   "name": "gophernotes"
  },
  "language_info": {
   "codemirror_mode": "",
   "file_extension": ".go",
   "mimetype": "",
   "name": "go",
   "nbconvert_exporter": "",
   "pygments_lexer": "",
   "version": "go1.9.2"
  }
 },
 "nbformat": 4,
 "nbformat_minor": 2
}
