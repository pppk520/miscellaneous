{
 "cells": [
  {
   "cell_type": "markdown",
   "metadata": {},
   "source": [
    "# This is to record awesome well-structured Online courses"
   ]
  },
  {
   "cell_type": "markdown",
   "metadata": {},
   "source": [
    "### Basic\n",
    "\n",
    "[Standford CS101](https://web.stanford.edu/class/cs101/) (by Nick Parlante)\n",
    "\n",
    "[Design Pattern](https://www.youtube.com/playlist?list=PLF206E906175C7E07) (by Derek Banas)"
   ]
  },
  {
   "cell_type": "markdown",
   "metadata": {},
   "source": [
    "### Advanced\n",
    "\n",
    "[Algorithms, Part I](https://www.coursera.org/learn/algorithms-part1) (by Kevin Wayne, Robert Sedgewick)\n",
    "\n",
    "[Algorithms, Part II](https://www.coursera.org/learn/algorithms-part2) (by Kevin Wayne, Robert Sedgewick)\n",
    "\n",
    "[Discrete Optimization](https://www.coursera.org/learn/discrete-optimization) (by Pascal Van Hentenryck, Dr. Carleton Coffrin)\n",
    "\n",
    "[Build a Modern Computer from First Principles: From Nand to Tetris](https://www.coursera.org/learn/build-a-computer) (by Shimon Schocken, Noam Nisan)\n",
    "\n",
    "[Build a Modern Computer from First Principles: Nand to Tetris Part II](https://www.coursera.org/learn/nand2tetris2) (by Shimon Schocken, Noam Nisan)\n",
    "\n"
   ]
  },
  {
   "cell_type": "markdown",
   "metadata": {},
   "source": [
    "## Specialized\n",
    "\n",
    "#### Machine Learning, AI\n",
    "[Neural Networks and Deep Learning](https://www.coursera.org/learn/neural-networks-deep-learning/home/welcome) (deeplearning.ai)\n",
    "\n",
    "[Machine Learning](https://www.coursera.org/learn/machine-learning) (by Andrew Ng)\n",
    "\n",
    "[Intro to Artificial Intelligence](https://classroom.udacity.com/courses/cs271) (by Peter Norvig, Sebastian Thrun)\n",
    "\n",
    "#### Security\n",
    "\n",
    "[Cryptography](https://www.coursera.org/learn/crypto) (by Dan Boneh)\n",
    "\n",
    "[Malicious Software and its Underground Economy: Two Sides to Every Story](https://www.coursera.org/learn/malsoftware) (by Dr Lorenzo Cavallaro)\n",
    "\n",
    "[Software Security](https://www.coursera.org/learn/software-security) (by Michael Hicks)\n",
    "\n",
    "#### Image Processing\n",
    "[Image and Video Processing: From Mars to Hollywood with a Stop at the Hospital](https://www.coursera.org/learn/image-processing) (by Guillermo Sapiro)\n",
    "\n",
    "#### Others\n",
    "[Algorithms for DNA Sequencing](https://www.coursera.org/learn/dna-sequencing) (by Ben Langmead, Jacob Pritt)\n",
    "\n",
    "[Bitcoin and Cryptocurrency Technologies](https://www.coursera.org/learn/cryptocurrency) (by Arvind Narayanan)\n",
    "\n",
    "[Coding the Matrix](https://www.youtube.com/playlist?list=PLThf1G9rKT1Qf4_HCImPjC2hOk5uFDVEI) (by Philip Klein)\n",
    "\n"
   ]
  },
  {
   "cell_type": "markdown",
   "metadata": {},
   "source": [
    "## Math\n",
    "\n",
    "[3Blue1Brown](https://www.youtube.com/channel/UCYO_jab_esuFRV4b17AJtAw) (Math with Visualization)"
   ]
  },
  {
   "cell_type": "markdown",
   "metadata": {},
   "source": [
    "## General\n",
    "\n",
    "[Model Thinking](https://www.coursera.org/learn/model-thinking) (by Scott E. Page)"
   ]
  }
 ],
 "metadata": {
  "kernelspec": {
   "display_name": "Python 3",
   "language": "python",
   "name": "python3"
  },
  "language_info": {
   "codemirror_mode": {
    "name": "ipython",
    "version": 3
   },
   "file_extension": ".py",
   "mimetype": "text/x-python",
   "name": "python",
   "nbconvert_exporter": "python",
   "pygments_lexer": "ipython3",
   "version": "3.5.3"
  }
 },
 "nbformat": 4,
 "nbformat_minor": 2
}
