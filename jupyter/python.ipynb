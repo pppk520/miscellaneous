{
 "cells": [
  {
   "cell_type": "markdown",
   "metadata": {},
   "source": [
    "## class built-in methods"
   ]
  },
  {
   "cell_type": "code",
   "execution_count": 23,
   "metadata": {},
   "outputs": [
    {
     "name": "stdout",
     "output_type": "stream",
     "text": [
      "__init__\n",
      "__call__\n",
      "a, b, c = [1, 2, 3]\n"
     ]
    }
   ],
   "source": [
    "class Foo(object):\n",
    "    def __init__(self, val):\n",
    "        print('__init__')\n",
    "        self.val = val\n",
    "    \n",
    "    def __call__(self, a, b, c):\n",
    "        print('__call__')        \n",
    "        print('a, b, c = {}'.format(str([a,b,c])))\n",
    "\n",
    "# __init__\n",
    "obj = Foo(10)\n",
    "\n",
    "# __call__\n",
    "obj(1,2,3)\n",
    "        "
   ]
  },
  {
   "cell_type": "markdown",
   "metadata": {},
   "source": [
    "## Decorator without Arguments\n",
    "\n",
    "Reference: [Decorators I: Introduction to Python Decorators](http://www.artima.com/weblogs/viewpost.jsp?thread=240808)"
   ]
  },
  {
   "cell_type": "code",
   "execution_count": 28,
   "metadata": {},
   "outputs": [
    {
     "name": "stdout",
     "output_type": "stream",
     "text": [
      "------ without decorator --------\n",
      "pppk\n",
      "------ with decorator --------\n",
      "welcome!\n",
      "pppk\n"
     ]
    }
   ],
   "source": [
    "import functools\n",
    "\n",
    "def welcome(f):\n",
    "    @functools.wraps(f) # this is to make docstring correct\n",
    "    def decorated(*args, **kwargs):\n",
    "        print('welcome!')\n",
    "        \n",
    "        return f(*args, **kwargs)\n",
    "\n",
    "    return decorated\n",
    "\n",
    "print('------ without decorator --------')\n",
    "def foo(name):\n",
    "    print(name)\n",
    "\n",
    "foo('pppk')\n",
    "\n",
    "print('------ with decorator --------')\n",
    "@welcome\n",
    "def foo(name):\n",
    "    print(name)\n",
    "\n",
    "foo('pppk')\n",
    "\n"
   ]
  },
  {
   "cell_type": "markdown",
   "metadata": {},
   "source": [
    "## Decorator with Arguments\n",
    "\n",
    "Reference: [Python Decorators II: Decorator Arguments](http://www.artima.com/weblogs/viewpost.jsp?thread=240845)"
   ]
  },
  {
   "cell_type": "code",
   "execution_count": 32,
   "metadata": {},
   "outputs": [
    {
     "name": "stdout",
     "output_type": "stream",
     "text": [
      "您好\n",
      "歡迎光臨\n",
      "pppk\n"
     ]
    }
   ],
   "source": [
    "def welcome(greeting):\n",
    "    def decorator(f):\n",
    "        @functools.wraps(f) # this is to make docstring correct\n",
    "        def decorated(*args, **kwargs):\n",
    "            print(greeting)\n",
    "            return f(*args, **kwargs)\n",
    "\n",
    "        return decorated\n",
    "    return decorator\n",
    "\n",
    "@welcome('您好')\n",
    "@welcome('歡迎光臨')\n",
    "def foo(name):\n",
    "    print(name)\n",
    "\n",
    "foo('pppk')"
   ]
  },
  {
   "attachments": {
    "image.png": {
     "image/png": "[encoded data removed]"
    }
   },
   "cell_type": "markdown",
   "metadata": {},
   "source": [
    "## Meta Class\n",
    "\n",
    "Reference: https://stackoverflow.com/questions/100003/what-is-a-metaclass-in-python\n",
    "\n",
    "![image.png](attachment:image.png)"
   ]
  },
  {
   "cell_type": "code",
   "execution_count": 50,
   "metadata": {},
   "outputs": [
    {
     "name": "stdout",
     "output_type": "stream",
     "text": [
      "<class '__main__.Foo'>\n",
      "<__main__.Foo object at 0x7fd9bc1c68d0>: type = <class '__main__.Foo'>\n",
      "obj class: <class '__main__.Foo'>\n",
      "\n",
      "False\n",
      "True\n",
      "\n",
      "obj class.class: <class 'type'>\n",
      "\n",
      "<class '__main__.Foo'>\n",
      "True\n"
     ]
    }
   ],
   "source": [
    "class Foo(object):\n",
    "    pass\n",
    "\n",
    "print(Foo)\n",
    "\n",
    "# you use class Foo to create an instance\n",
    "obj = Foo()\n",
    "print('{}: type = {}'.format(obj, type(obj)))\n",
    "print('obj class: {}'.format(obj.__class__))\n",
    "\n",
    "print('')\n",
    "\n",
    "# but actually class Foo is also an object (class object) so you can assign attributes to it\n",
    "print(hasattr(Foo, 'new_attr'))\n",
    "Foo.new_attr = 'new'\n",
    "print(hasattr(Foo, 'new_attr'))\n",
    "\n",
    "print('')\n",
    "\n",
    "# class object Foo is created by its meta class, type\n",
    "print('obj class.class: {}'.format(obj.__class__.__class__))\n",
    "\n",
    "print('')\n",
    "\n",
    "# you can also do it yourself, without class definition\n",
    "Foo = type('Foo', (object,), {'new_attr': 'new'})\n",
    "print(Foo)\n",
    "print(hasattr(Foo, 'new_attr'))\n"
   ]
  },
  {
   "cell_type": "markdown",
   "metadata": {},
   "source": [
    "### customized meta class\n",
    "\n",
    "```\n",
    "__metaclass__ can actually be any callable, it doesn't need to be a formal class\n",
    "```"
   ]
  },
  {
   "cell_type": "code",
   "execution_count": 82,
   "metadata": {},
   "outputs": [
    {
     "name": "stdout",
     "output_type": "stream",
     "text": [
      "UpperAttrMetaClass: __new__\n",
      "<class '__main__.UpperAttrMetaclass'>\n",
      "['ADDRESS', 'NAME', '__class__', '__delattr__', '__dict__', '__dir__', '__doc__', '__eq__', '__format__', '__ge__', '__getattribute__', '__gt__', '__hash__', '__init__', '__le__', '__lt__', '__module__', '__ne__', '__new__', '__reduce__', '__reduce_ex__', '__repr__', '__setattr__', '__sizeof__', '__str__', '__subclasshook__', '__weakref__']\n"
     ]
    }
   ],
   "source": [
    "# remember that `type` is actually a class like `str` and `int`\n",
    "# so you can inherit from it\n",
    "class UpperAttrMetaclass(type):\n",
    "    # __new__ is the method called before __init__\n",
    "    # it's the method that creates the object and returns it\n",
    "    # while __init__ just initializes the object passed as parameter\n",
    "    # you rarely use __new__, except when you want to control how the object\n",
    "    # is created.\n",
    "    # here the created object is the class, and we want to customize it\n",
    "    # so we override __new__\n",
    "    # you can do some stuff in __init__ too if you wish\n",
    "    # some advanced use involves overriding __call__ as well, but we won't\n",
    "    def __new__(cls, clsname, bases, dct):\n",
    "        print('UpperAttrMetaClass: __new__')\n",
    "        uppercase_attr = {}\n",
    "        for name, val in dct.items():\n",
    "            if not name.startswith('__'):\n",
    "                uppercase_attr[name.upper()] = val\n",
    "            else:\n",
    "                uppercase_attr[name] = val\n",
    "\n",
    "        return super(UpperAttrMetaclass, cls).__new__(cls, clsname, bases, uppercase_attr)        \n",
    "    \n",
    "class Foo(metaclass=UpperAttrMetaclass):\n",
    "    # the following line is for python 2, python 3 use metaclass=xxx in declaration\n",
    "    #__metaclass__ = UpperAttrMetaclass\n",
    "    \n",
    "    name = 'foo'\n",
    "    address = 'home'\n",
    "\n",
    "foo = Foo()\n",
    "print(foo.__class__.__class__)\n",
    "print(dir(foo))"
   ]
  },
  {
   "cell_type": "markdown",
   "metadata": {},
   "source": [
    "### singleton metaclass"
   ]
  },
  {
   "cell_type": "code",
   "execution_count": 86,
   "metadata": {},
   "outputs": [
    {
     "name": "stdout",
     "output_type": "stream",
     "text": [
      "True\n"
     ]
    }
   ],
   "source": [
    "class MetaSingleton(type):\n",
    "    instance = None\n",
    "    \n",
    "    def __call__(cls, *args, **kw):\n",
    "        if cls.instance is None:\n",
    "            cls.instance = super(MetaSingleton, cls).__call__(*args, **kw)\n",
    "            \n",
    "        return cls.instance\n",
    "\n",
    "class Foo(metaclass=MetaSingleton):\n",
    "    pass\n",
    "\n",
    "a = Foo()\n",
    "b = Foo()\n",
    "    \n",
    "print(a is b)"
   ]
  },
  {
   "cell_type": "code",
   "execution_count": null,
   "metadata": {
    "collapsed": true
   },
   "outputs": [],
   "source": []
  }
 ],
 "metadata": {
  "kernelspec": {
   "display_name": "Python 3",
   "language": "python",
   "name": "python3"
  },
  "language_info": {
   "codemirror_mode": {
    "name": "ipython",
    "version": 3
   },
   "file_extension": ".py",
   "mimetype": "text/x-python",
   "name": "python",
   "nbconvert_exporter": "python",
   "pygments_lexer": "ipython3",
   "version": "3.5.3"
  }
 },
 "nbformat": 4,
 "nbformat_minor": 2
}
